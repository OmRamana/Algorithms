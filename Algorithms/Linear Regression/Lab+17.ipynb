{
 "cells": [
  {
   "cell_type": "markdown",
   "metadata": {},
   "source": [
    "# <font color=darkred>Laboratory 17: PDFs and CDFs</font>\n",
    "\n",
    "## CDF vs. PDF: What’s the Difference?\n",
    "Before we can answer that question, let's revisit the concept of a *random variable*.\n",
    "\n",
    "### Random Variables\n",
    "A random variable, usually denoted as X, is a variable whose values are numerical outcomes of some random process. There are two types of random variables: discrete and continuous.\n",
    "\n",
    "---\n",
    "#### Discrete Random Variables\n",
    "\n",
    "A discrete random variable is one which can take on only a countable number of distinct values like 0, 1, 2, 3, 4, 5…100, 1 million, etc. Some examples of discrete random variables include:\n",
    "\n",
    "The number of times a coin lands on tails after being flipped 20 times.\n",
    "The number of times a dice lands on the number 4 after being rolled 100 times.\n",
    "\n",
    "---\n",
    "#### Continuous Random Variables\n",
    "A continuous random variable is one which can take on an infinite number of possible values. Some examples of continuous random variables include:\n",
    "\n",
    "Height of a person\n",
    "Weight of an animal\n",
    "Time required to run a mile\n",
    "For example, the height of a person could be 60.2 inches, 65.2344 inches, 70.431222 inches, etc. There are an infinite amount of possible values for height.\n",
    "\n",
    "Rule of Thumb: If you can count the number of outcomes, then you are working with a discrete random variable (e.g. counting the number of times a coin lands on heads). But if you can measure the outcome, you are working with a continuous random variable (e.g. measuring, height, weight, time, etc.)\n",
    "\n",
    "---\n",
    "## Probability Density Functions\n",
    "A probability density function (pdf) tells us the probability that a random variable takes on a certain value.\n",
    "\n",
    "For example, suppose we roll a dice one time. If we let x denote the number that the dice lands on, then the probability density function for the outcome can be described as follows:\n",
    "\n",
    "For example, suppose we roll a dice one time. If we let x denote the number that the dice lands on, then the probability density function for the outcome can be described as follows:\n",
    "\n",
    "- P(x < 1) : 0\n",
    "- P(x = 1) : 1/6\n",
    "- P(x = 2) : 1/6\n",
    "- P(x = 3) : 1/6\n",
    "- P(x = 4) : 1/6\n",
    "- P(x = 5) : 1/6\n",
    "- P(x = 6) : 1/6\n",
    "- P(x > 6) : 0\n",
    "\n",
    "Note that this is an example of a discrete random variable, since x can only take on integer values.\n",
    "\n",
    "For a continuous random variable, we cannot use a PDF directly, since the probability that x takes on any exact value is zero.\n",
    "\n",
    "For example, suppose we want to know the probability that a burger from a particular restaurant weighs a quarter-pound (0.25 lbs). Since weight is a continuous variable, it can take on an infinite number of values.\n",
    "\n",
    "For example, a given burger might actually weight 0.250001 pounds, or 0.24 pounds, or 0.2488 pounds. The probability that a given burger weights exactly .25 pounds is essentially zero.\n",
    "\n",
    "---\n",
    "## Cumulative Distribution Functions\n",
    "A cumulative distribution function (cdf) tells us the probability that a random variable takes on a value less than or equal to x.\n",
    "\n",
    "For example, suppose we roll a dice one time. If we let x denote the number that the dice lands on, then the cumulative distribution function for the outcome can be described as follows:\n",
    "\n",
    "- P(x ≤ 0) : 0\n",
    "- P(x ≤ 1) : 1/6\n",
    "- P(x ≤ 2) : 2/6\n",
    "- P(x ≤ 3) : 3/6\n",
    "- P(x ≤ 4) : 4/6\n",
    "- P(x ≤ 5) : 5/6\n",
    "- P(x ≤ 6) : 6/6\n",
    "- P(x > 6) : 0\n",
    "\n",
    "Notice that the probability that x is less than or equal to 6 is 6/6, which is equal to 1. This is because the dice will land on either 1, 2, 3, 4, 5, or 6 with 100% probability.\n",
    "\n",
    "This example uses a discrete random variable, but a continuous density function can also be used for a continuous random variable.\n",
    "\n",
    "Cumulative distribution functions have the following properties:\n",
    "\n",
    "- The probability that a random variable takes on a value less than the smallest possible value is zero. For example, the probability that a dice lands on a value less than 1 is zero.\n",
    "- The probability that a random variable takes on a value less than or equal to the largest possible value is one. For example, the probability that a dice lands on a value of 1, 2, 3, 4, 5, or 6 is one. It must land on one of those numbers.\n",
    "- The cdf is always non-decreasing. That is, the probability that a dice lands on a number less than or equal to 1 is 1/6, the probability that it lands on a number less than or equal to 2 is 2/6, the probability that it lands on a number less than or equal to 3 is 3/6, etc. The cumulative probabilities are always non-decreasing."
   ]
  },
  {
   "cell_type": "markdown",
   "metadata": {},
   "source": [
    "# Python processing PDF and CDF examples\n",
    "After getting the data, one of the most important tasks is to check the distribution of your data. For the distribution of data, there are two types of pdf and cdf.\n",
    "\n",
    "### The following describes the method of using python to generate pdf:\n",
    "\n",
    "Use matplotlib's drawing interface hist() to directly draw the pdf distribution;\n",
    "\n",
    "Using numpy's data processing function histogram(), you can generate pdf distribution data to facilitate subsequent data processing, such as further generation of cdf;\n",
    "\n",
    "Using seaborn's distplot(), the advantage is that you can fit the pdf distribution and check the distribution type of your own data;"
   ]
  },
  {
   "cell_type": "code",
   "execution_count": null,
   "metadata": {},
   "outputs": [],
   "source": [
    "from scipy import stats\n",
    "import matplotlib.pyplot as plt\n",
    "import numpy as np\n",
    "import seaborn as sns\n",
    "\n",
    "arr = np.random.normal(size=100)\n",
    "\n",
    "# plot histogram\n",
    "plt.subplot(221)\n",
    "plt.hist(arr)\n",
    "\n",
    "# obtain histogram data\n",
    "plt.subplot(222)\n",
    "hist, bin_edges = np.histogram(arr)\n",
    "plt.plot(hist)\n",
    "\n",
    "# fit histogram curve\n",
    "plt.subplot(223)\n",
    "sns.distplot(arr, kde=False, fit=stats.gamma, rug=True)\n",
    "plt.show()"
   ]
  },
  {
   "cell_type": "markdown",
   "metadata": {},
   "source": [
    "# The following describes how to use python to generate cdf:\n",
    "\n",
    "Use numpy's data processing function histogram() to generate pdf distribution data, and further generate cdf;\n",
    "\n",
    "Use seaborn's cumfreq() to draw cdf directly;"
   ]
  },
  {
   "cell_type": "code",
   "execution_count": null,
   "metadata": {},
   "outputs": [],
   "source": [
    "from scipy import stats\n",
    "import matplotlib.pyplot as plt\n",
    "import numpy as np\n",
    "import seaborn as sns\n",
    "\n",
    "arr = np.random.normal(size=100)\n",
    "\n",
    "plt.subplot(121)\n",
    "hist, bin_edges = np.histogram(arr)\n",
    "cdf = np.cumsum(hist)\n",
    "plt.plot(cdf)\n",
    "\n",
    "plt.subplot(122)\n",
    "cdf = stats.cumfreq(arr)\n",
    "plt.plot(cdf[0])\n",
    "\n",
    "plt.show()"
   ]
  },
  {
   "cell_type": "markdown",
   "metadata": {},
   "source": [
    "More often, it is necessary to put pdf and cdf together to better display the data distribution. This implementation needs to normalize pdf and cdf respectively."
   ]
  },
  {
   "cell_type": "code",
   "execution_count": null,
   "metadata": {},
   "outputs": [],
   "source": [
    "from scipy import stats\n",
    "import matplotlib.pyplot as plt\n",
    "import numpy as np\n",
    "import seaborn as sns\n",
    "\n",
    "arr = np.random.normal(size=100)\n",
    "\n",
    "hist, bin_edges = np.histogram(arr)\n",
    "width =(bin_edges[1]- bin_edges[0])*0.8\n",
    "plt.bar(bin_edges[1:], hist/max(hist), width=width, color='#5B9BD5')\n",
    "\n",
    "cdf = np.cumsum(hist/sum(hist))\n",
    "plt.plot(bin_edges[1:], cdf,'-*', color='#ED7D31')\n",
    "\n",
    "plt.xlim([-2,2])\n",
    "plt.ylim([0,1])\n",
    "plt.grid()\n",
    "\n",
    "plt.show()"
   ]
  },
  {
   "cell_type": "markdown",
   "metadata": {},
   "source": [
    "# Homework\n",
    "Your task is to answer the following questions (given in comments) about the distributions we discussed today, if the question involves code; then please provide the code<br>\n",
    "Please submit the .pdf and .ipynb files to the ***lecture section on blackboard***, the recording will be in the ***lab section on blackboard***. "
   ]
  },
  {
   "cell_type": "code",
   "execution_count": null,
   "metadata": {},
   "outputs": [],
   "source": [
    "#Give an example (in English) of a situation that would be more appropriate for a CDF than a PDF (don't use anything we covered explicitly)\n",
    "\n",
    "#Give an example (in English) of a situation that would be more appropriate for a PDF than a CDF (don't use anything we covered explicitly)\n",
    "\n",
    "\n",
    "#Create a random distribution using the random variable of a coin flip (given a fair coin) where each trial is 10 flips, and we do 1000 trials. Plot the pdf and cdf of this distribution in the same plot.\n",
    "\n",
    "\n",
    "#Create a random distribution using the random variable of a coin flip (given a weighted coin that lands on heads half as often as tails) where each trial is 10 flips, and we do 1000 trials. \n",
    "#Plot the pdf and cdf of this distribution in the same plot."
   ]
  }
 ],
 "metadata": {
  "kernelspec": {
   "display_name": "Python 3",
   "language": "python",
   "name": "python3"
  },
  "language_info": {
   "codemirror_mode": {
    "name": "ipython",
    "version": 3
   },
   "file_extension": ".py",
   "mimetype": "text/x-python",
   "name": "python",
   "nbconvert_exporter": "python",
   "pygments_lexer": "ipython3",
   "version": "3.8.8"
  }
 },
 "nbformat": 4,
 "nbformat_minor": 4
}
