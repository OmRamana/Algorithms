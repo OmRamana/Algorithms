{
 "cells": [
  {
   "cell_type": "code",
   "execution_count": 1,
   "id": "3ca2b01c-b135-49b0-8033-fcc48fce33c8",
   "metadata": {},
   "outputs": [
    {
     "name": "stdout",
     "output_type": "stream",
     "text": [
      "A state that start with N\n",
      "A state that start with N\n",
      "A state that start with M\n",
      "A state that starts with something else\n",
      "A state that start with N\n",
      "A state that start with M\n",
      "A state that starts with something else\n",
      "A state that starts with something else\n",
      "A state that starts with something else\n"
     ]
    }
   ],
   "source": [
    "# Let's take the example of the nested conditional statement for loop\n",
    "northeast = ['New York','New Jersey', 'Massachusettes','Vermont','New Hampshire','Maine',\n",
    "             'Rhode Island','Connecticut','Pennsylvania']\n",
    "for i in northeast:\n",
    "    if i.startswith('N'):\n",
    "        print('A state that start with N')\n",
    "    elif i.startswith('M'):\n",
    "        print('A state that start with M')\n",
    "    else: \n",
    "        print('A state that starts with something else')"
   ]
  },
  {
   "cell_type": "code",
   "execution_count": 2,
   "id": "412c73d9-c3ff-4ff8-ac3e-a94c20c716b4",
   "metadata": {},
   "outputs": [],
   "source": [
    "#print state that starts with N otherwise choose a state that starts with M"
   ]
  },
  {
   "cell_type": "code",
   "execution_count": 3,
   "id": "57e717c2-0e3d-4053-b0a5-1283a8b969eb",
   "metadata": {},
   "outputs": [],
   "source": [
    "# What if I want to add up the number of states in each of these categories?\n",
    "# We can create variables that if the condition is met, it will add one and \n",
    "#do this iteratively until the end of the end of the list\n",
    "\n",
    "nstates = 0\n",
    "mstates =0 \n",
    "otherstates= 0\n",
    "\n",
    "northeast = ['New York','New Jersey', 'Massachusettes','Vermont','New Hampshire',\n",
    "             'Maine','Rhode Island','Connecticut','Pennsylvania']\n",
    "for i in northeast:\n",
    "    if i.startswith('N'):\n",
    "        nstates = nstates+1\n",
    "    elif i.startswith('M'):\n",
    "        mstates = mstates+1\n",
    "    else: \n",
    "        otherstates = otherstates+1"
   ]
  },
  {
   "cell_type": "code",
   "execution_count": 4,
   "id": "c04efdee-cbd7-4df7-978d-c41770f3ffbd",
   "metadata": {},
   "outputs": [
    {
     "name": "stdout",
     "output_type": "stream",
     "text": [
      "3\n",
      "2\n",
      "4\n"
     ]
    }
   ],
   "source": [
    "print(nstates)\n",
    "print(mstates)\n",
    "print(otherstates)"
   ]
  },
  {
   "cell_type": "code",
   "execution_count": 10,
   "id": "279d8269-0f54-4b0d-b883-dd39d937409b",
   "metadata": {},
   "outputs": [
    {
     "data": {
      "text/plain": [
       "-4"
      ]
     },
     "execution_count": 10,
     "metadata": {},
     "output_type": "execute_result"
    }
   ],
   "source": [
    "(nstates+mstates)-Total #give the tota; of state with n and m"
   ]
  },
  {
   "cell_type": "code",
   "execution_count": 11,
   "id": "8349790d-675b-4601-a266-a6878b737e01",
   "metadata": {},
   "outputs": [
    {
     "data": {
      "text/plain": [
       "9"
      ]
     },
     "execution_count": 11,
     "metadata": {},
     "output_type": "execute_result"
    }
   ],
   "source": [
    "len(northeast) #give the total"
   ]
  },
  {
   "cell_type": "code",
   "execution_count": 14,
   "id": "d3c2fe67-dd11-4915-b727-6781736acd5c",
   "metadata": {},
   "outputs": [],
   "source": [
    "# How do I figure out the total number of items in the list?\n",
    "total = len(northeast) # length is a function that can tell me how many element are in a list\n",
    "fraction_nstates = nstates/total\n",
    "fraction_mstates = mstates/total\n",
    "fraction_otherstates = otherstates/total\n",
    "\n",
    "#How can I simplify this code?"
   ]
  },
  {
   "cell_type": "code",
   "execution_count": 13,
   "id": "9d24ae57-fded-491d-9c27-0e559fc2bd12",
   "metadata": {},
   "outputs": [
    {
     "name": "stdout",
     "output_type": "stream",
     "text": [
      "0.3333333333333333\n",
      "0.2222222222222222\n",
      "0.4444444444444444\n"
     ]
    },
    {
     "data": {
      "text/plain": [
       "[0.3333333333333333, 0.2222222222222222, 0.4444444444444444]"
      ]
     },
     "execution_count": 13,
     "metadata": {},
     "output_type": "execute_result"
    }
   ],
   "source": [
    "#create new data point in this new l\n",
    "# we can create a for loop out of this and save the information into a list.\n",
    "\n",
    "total = len(northeast)\n",
    "ne_statnames = [nstates, mstates, otherstates]  # create a list of items (our variables)\n",
    "fraction=[] #initialize a list that is empty (contains no items), and name it fraction\n",
    "\n",
    "for i in ne_statnames: \n",
    "    a = i/total # assign a variable a to be the fraction of the item divided by the total\n",
    "    #(the item is the number if states in that category and total is number of elements in the list that we defined earlier)\n",
    "    print(a)\n",
    "    fraction.append(a) #for the list called fraction, append the value a in the list\n",
    "fraction    \n",
    "\n",
    "#this loop will calculate the fraction of states in the list and the append that number to a list called fraction \n",
    "# it will do this until the end of the list is reached"
   ]
  },
  {
   "cell_type": "code",
   "execution_count": 16,
   "id": "12084d79-10f4-4c19-92cb-4443abea5d06",
   "metadata": {},
   "outputs": [
    {
     "data": {
      "text/plain": [
       "list"
      ]
     },
     "execution_count": 16,
     "metadata": {},
     "output_type": "execute_result"
    }
   ],
   "source": [
    "# You must initialize the list by creating a variable with an empty list\n",
    "fraction=[]  # It's empty\n",
    "type(fraction) #and you can see here this is a list\n",
    "\n",
    "#tell what's inside the item"
   ]
  },
  {
   "cell_type": "code",
   "execution_count": 17,
   "id": "f57dac7c-0daa-4f70-8de6-2bd3864092bc",
   "metadata": {},
   "outputs": [],
   "source": [
    "##APPEND"
   ]
  },
  {
   "cell_type": "code",
   "execution_count": 18,
   "id": "85c62d1a-441e-42f1-ba0c-eb090afac469",
   "metadata": {},
   "outputs": [
    {
     "data": {
      "text/plain": [
       "[9, 27, 45]"
      ]
     },
     "execution_count": 18,
     "metadata": {},
     "output_type": "execute_result"
    }
   ],
   "source": [
    "list1 = [3,9,15]\n",
    "new_list = [] # create an empty list\n",
    "\n",
    "for i in list1: # for each item in this list\n",
    "    k = i*3 #multiple it by 3 and save it as the variable k\n",
    "    new_list.append(k) # add the variable k to the list called new_list\n",
    "new_list"
   ]
  },
  {
   "cell_type": "code",
   "execution_count": 19,
   "id": "b05cd58e-3815-42c1-99aa-73182c37091a",
   "metadata": {},
   "outputs": [],
   "source": [
    "##NESTED LOOPS\n",
    "#A loop within a loop. What it will do is loop through\n",
    "#the first set and then the second set in that order."
   ]
  },
  {
   "cell_type": "code",
   "execution_count": 21,
   "id": "dd5370d0-813d-47be-8153-c66d520c612a",
   "metadata": {},
   "outputs": [
    {
     "name": "stdout",
     "output_type": "stream",
     "text": [
      "outer loop item1\n",
      "inner loop item1\n",
      "inner loop item1\n",
      "inner loop item1\n",
      "outer loop item2\n",
      "inner loop item2\n",
      "inner loop item2\n",
      "inner loop item2\n",
      "outer loop item3\n",
      "inner loop item3\n",
      "inner loop item3\n",
      "inner loop item3\n",
      "outer loop item4\n",
      "inner loop item4\n",
      "inner loop item4\n",
      "inner loop item4\n"
     ]
    }
   ],
   "source": [
    "for i in range(1,5):\n",
    "    print('outer loop item'+str(i))\n",
    "    for j in range(6,9):\n",
    "        print('inner loop item'+str(i))"
   ]
  },
  {
   "cell_type": "code",
   "execution_count": 22,
   "id": "5a0e63b9-f48a-4e02-9447-4635d1ad4438",
   "metadata": {},
   "outputs": [
    {
     "name": "stdout",
     "output_type": "stream",
     "text": [
      "New York\n",
      "New Jersey\n",
      "Massachusettes\n",
      "Massachusettes is in new england\n",
      "Vermont\n",
      "Vermont is in new england\n",
      "New Hampshire\n",
      "New Hampshire is in new england\n",
      "Maine\n",
      "Maine is in new england\n",
      "Rhode Island\n",
      "Rhode Island is in new england\n",
      "Connecticut\n",
      "Pennsylvania\n"
     ]
    },
    {
     "data": {
      "text/plain": [
       "5"
      ]
     },
     "execution_count": 22,
     "metadata": {},
     "output_type": "execute_result"
    }
   ],
   "source": [
    "# Let's take the example of the nested conditional statement for loop\n",
    "northeast = ['New York','New Jersey', 'Massachusettes','Vermont','New Hampshire',\n",
    "             'Maine','Rhode Island','Connecticut','Pennsylvania']\n",
    "newengland = ['Massachusettes','Vermont','New Hampshire','Maine','Rhode Island']\n",
    "tot_states_ne = 0\n",
    "\n",
    "for i in northeast:  # In this loop look at the first item and;\n",
    "    print(i) # print the value i #first look at this item and tell what it is\n",
    "    if i in newengland: #look howmany states is in that newengland list \n",
    "        # then evaluate if the item i is in the list new england\n",
    "        #6 new england state\n",
    "        \n",
    "        print(i, 'is in new england') # if that's true, print this statement\n",
    "        tot_states_ne = tot_states_ne+1 # and add 1 to the variable tot_state_ne; \n",
    "#         move onto the next item in the list new england until there are no more items, \n",
    "# then go to the next item in the list northest\n",
    "tot_states_ne"
   ]
  },
  {
   "cell_type": "code",
   "execution_count": 23,
   "id": "6dae3bea-fe76-47e6-b165-0225eb22c596",
   "metadata": {},
   "outputs": [
    {
     "name": "stdout",
     "output_type": "stream",
     "text": [
      "Massachusettes is in new england\n",
      "Vermont is in new england\n",
      "New Hampshire is in new england\n",
      "Maine is in new england\n",
      "Rhode Island is in new england\n"
     ]
    },
    {
     "data": {
      "text/plain": [
       "9"
      ]
     },
     "execution_count": 23,
     "metadata": {},
     "output_type": "execute_result"
    }
   ],
   "source": [
    "# Adding 1 that initalizes at 0 is very useful to help you count \n",
    "# The total cout at the end of this for loop will show you how many iterations it took to complete the for loop\n",
    "counter = 0\n",
    "for i in northeast:\n",
    "    \n",
    "    if i in newengland:\n",
    "        print(i, 'is in new england')\n",
    "    \n",
    "    counter = counter+1\n",
    "counter\n"
   ]
  },
  {
   "cell_type": "code",
   "execution_count": 24,
   "id": "6ac7a274-433c-47c6-805f-22307aa48dbc",
   "metadata": {},
   "outputs": [],
   "source": [
    "# Another way to have a counter is to use an addition assignment +=\n",
    "## += can be very useful to continually add one to a variable. \n",
    "# This is often used in counters to help you keep track of the number of iterations that you\n",
    "# This is equivalent to i = i+1"
   ]
  },
  {
   "cell_type": "code",
   "execution_count": 25,
   "id": "77ee74de-925d-4ceb-80d1-37a57b2e9085",
   "metadata": {},
   "outputs": [
    {
     "name": "stdout",
     "output_type": "stream",
     "text": [
      "Massachusettes is in new england\n",
      "Vermont is in new england\n",
      "New Hampshire is in new england\n",
      "Maine is in new england\n",
      "Rhode Island is in new england\n"
     ]
    },
    {
     "data": {
      "text/plain": [
       "9"
      ]
     },
     "execution_count": 25,
     "metadata": {},
     "output_type": "execute_result"
    }
   ],
   "source": [
    "counter = 0\n",
    "for i in northeast:\n",
    "    \n",
    "    if i in newengland:\n",
    "        print(i, 'is in new england')\n",
    "    \n",
    "    counter +=1\n",
    "counter"
   ]
  },
  {
   "cell_type": "code",
   "execution_count": 26,
   "id": "f6afed59-4163-4b66-af0b-56d22bcc0602",
   "metadata": {},
   "outputs": [],
   "source": [
    "#The above nested loop will first look at the first item (New York) in the first list (northeast) and then look at all of the items in the second list (newengland) that meets the conditional statement. Then it will go to the second item (New Jersey) in the first list (northeast) and then go through all of the items in the second list (newengland).\n",
    "#Be careful with nested loops in the logic. Loops will go in order of the loop identified. It will always go to list one and then all the iteams in list two iteratively."
   ]
  },
  {
   "cell_type": "code",
   "execution_count": 27,
   "id": "f214e4d2-5c80-4a91-a6f9-9398b298766e",
   "metadata": {},
   "outputs": [],
   "source": [
    "## In line Nested Loops"
   ]
  },
  {
   "cell_type": "code",
   "execution_count": 29,
   "id": "d413b63e-38e0-443d-aca5-fc171e242aa6",
   "metadata": {},
   "outputs": [],
   "source": [
    "#To be exactly as stated as before\n",
    "nelist = [i+str(' is in new england') for i in northeast if i in newengland]"
   ]
  },
  {
   "cell_type": "code",
   "execution_count": 35,
   "id": "ec4ac01c-dd5f-4885-8d2d-8d3a75819f87",
   "metadata": {},
   "outputs": [
    {
     "ename": "TypeError",
     "evalue": "unsupported operand type(s) for +: 'int' and 'str'",
     "output_type": "error",
     "traceback": [
      "\u001b[0;31m---------------------------------------------------------------------------\u001b[0m",
      "\u001b[0;31mTypeError\u001b[0m                                 Traceback (most recent call last)",
      "\u001b[0;32m<ipython-input-35-3ebb8441a29d>\u001b[0m in \u001b[0;36m<module>\u001b[0;34m\u001b[0m\n\u001b[1;32m      1\u001b[0m \u001b[0;31m# If I assign i to be a number and add it to a string, you will get an error\u001b[0m\u001b[0;34m\u001b[0m\u001b[0;34m\u001b[0m\u001b[0;34m\u001b[0m\u001b[0m\n\u001b[1;32m      2\u001b[0m \u001b[0mi\u001b[0m \u001b[0;34m=\u001b[0m \u001b[0;36m7\u001b[0m\u001b[0;34m\u001b[0m\u001b[0;34m\u001b[0m\u001b[0m\n\u001b[0;32m----> 3\u001b[0;31m \u001b[0mi\u001b[0m \u001b[0;34m+\u001b[0m \u001b[0;34m'bob'\u001b[0m\u001b[0;34m\u001b[0m\u001b[0;34m\u001b[0m\u001b[0m\n\u001b[0m",
      "\u001b[0;31mTypeError\u001b[0m: unsupported operand type(s) for +: 'int' and 'str'"
     ]
    }
   ],
   "source": [
    "# If I assign i to be a number and add it to a string, you will get an error\n",
    "i = 7 \n",
    "i + 'bob'"
   ]
  },
  {
   "cell_type": "code",
   "execution_count": 31,
   "id": "6820320f-dd32-4caa-86c8-a2b775fa7a50",
   "metadata": {},
   "outputs": [
    {
     "data": {
      "text/plain": [
       "'7 bob'"
      ]
     },
     "execution_count": 31,
     "metadata": {},
     "output_type": "execute_result"
    }
   ],
   "source": [
    "# When I add elements together, I have to make sure it is the same type\n",
    "i = str(7) #makes i=string 7\n",
    "i+' bob' #add it as the same type"
   ]
  },
  {
   "cell_type": "code",
   "execution_count": 32,
   "id": "8021082e-89aa-46e0-bbdb-74785641021b",
   "metadata": {},
   "outputs": [
    {
     "data": {
      "text/plain": [
       "16"
      ]
     },
     "execution_count": 32,
     "metadata": {},
     "output_type": "execute_result"
    }
   ],
   "source": [
    "i = 7\n",
    "7+9\n",
    "#this is the same type"
   ]
  },
  {
   "cell_type": "code",
   "execution_count": 33,
   "id": "bbaf499a-824a-424c-b2ce-4b76b66b8ca1",
   "metadata": {},
   "outputs": [
    {
     "data": {
      "text/plain": [
       "[17, 18, 17, 24, 17]"
      ]
     },
     "execution_count": 33,
     "metadata": {},
     "output_type": "execute_result"
    }
   ],
   "source": [
    "# Let's go through another example of nested loops\n",
    "list1 = [3,9,12] #list of number\n",
    "x = 0 #initialize list called 0\n",
    "answers = []\n",
    "\n",
    "for i in range(5,10): # for each item in the range of numbers 5 through 9 (only go through 5 to 9)\n",
    "    if (i % 2) == 0: # check to see if i is even (that the remainder of i divided by 2 is equal to 0)\n",
    "        #, if it is true then do code below; if false, move to next conditional\n",
    "        x = i*3 #take that i andmultiple i by 3 and save it with the variable x\n",
    "    else: #otherwise\n",
    "        for j in list1: # for items (j) that are in list1 and add 5 then,assign that x then apppend it\n",
    "            x = j+5\n",
    "    answers.append(x) # append all of these answers from this loop in one list\n",
    "    \n",
    "#what happens if answers.append(x) is tabbed inward?\n",
    "answers"
   ]
  },
  {
   "cell_type": "code",
   "execution_count": 37,
   "id": "fcf3a935-f499-4b94-b421-83a56e78c6b2",
   "metadata": {},
   "outputs": [],
   "source": [
    "#Another example\n",
    "x_list = [10,57,89,76,350,126]\n",
    "for i in range(25, 350, 25): #going through the list of 25 through 350\n",
    "    x = i +20\n",
    "    for j in x_list: #asssign it to the variable x\n",
    "        if j>100: #if this is true\n",
    "            x_list = [x-1,j]\n",
    "        else: \n",
    "            x_list2 = [x,j] #[45,10]=[45,57]\n",
    "            #remain variable"
   ]
  },
  {
   "cell_type": "code",
   "execution_count": 38,
   "id": "d7d29944-f25a-4734-947a-35b9ee62bdca",
   "metadata": {},
   "outputs": [],
   "source": [
    "##BREAK"
   ]
  },
  {
   "cell_type": "code",
   "execution_count": 39,
   "id": "88a70463-74a7-442a-b96d-9effab27e444",
   "metadata": {},
   "outputs": [
    {
     "data": {
      "text/plain": [
       "[1, 2, 3, 4, 5]"
      ]
     },
     "execution_count": 39,
     "metadata": {},
     "output_type": "execute_result"
    }
   ],
   "source": [
    "i = [1,2,3,4,5]\n",
    "i[0:5]"
   ]
  },
  {
   "cell_type": "code",
   "execution_count": 40,
   "id": "0d09e470-1126-479d-9c6c-96ea6005d7cc",
   "metadata": {},
   "outputs": [
    {
     "name": "stdout",
     "output_type": "stream",
     "text": [
      "1\n",
      "2\n",
      "3\n",
      "4\n",
      "5\n",
      "6\n",
      "7\n",
      "8\n",
      "9\n",
      "10\n",
      "11\n",
      "12\n",
      "13\n",
      "14\n",
      "15\n",
      "16\n",
      "17\n",
      "18\n",
      "19\n"
     ]
    }
   ],
   "source": [
    "#while loops will continue until the logical statement that you input is False. \n",
    "# In this case, the logical statement is i less than 20.\n",
    "# The while loop will stop when it hits 20 because 20 is not less than 20 (Thus the last number printed is 19)\n",
    "\n",
    "i = 1\n",
    "while i < 20: #stop at 20\n",
    "    print(i)\n",
    "    i += 1\n",
    "    \n"
   ]
  },
  {
   "cell_type": "code",
   "execution_count": 41,
   "id": "860591cd-f606-4cb0-a00e-f7a22dc5e159",
   "metadata": {},
   "outputs": [
    {
     "name": "stdout",
     "output_type": "stream",
     "text": [
      "1\n",
      "2\n",
      "3\n",
      "4\n",
      "5\n"
     ]
    }
   ],
   "source": [
    "#In this case, if i is great than 0, the logical statement will always be True \n",
    "# The loop will be indefinite\n",
    "# This is why we must use the break function to tell the loop when to stop.  \n",
    "# Here, the if condition is used and when that if condition is True it will run the following line\n",
    "# Which is to stop the loop (break)\n",
    "\n",
    "i = 1\n",
    "while i > 0:\n",
    "    print(i)\n",
    "    if i == 5:\n",
    "        break\n",
    "    i += 1"
   ]
  },
  {
   "cell_type": "code",
   "execution_count": 42,
   "id": "28c98a24-cd17-46cf-b487-13a2b7c4ccf3",
   "metadata": {},
   "outputs": [
    {
     "name": "stdout",
     "output_type": "stream",
     "text": [
      "loan after 15 years of interest 70742.12\n"
     ]
    }
   ],
   "source": [
    "# Interest rates on loans example\n",
    "\n",
    "# suppose you have a loan that starts at 45,832 and the interest rate is 2.75\n",
    "# here is an example of calculating loans and interest rates with a while loop\n",
    "i = 45832\n",
    "y = 0\n",
    "while i > 0:\n",
    "    i = i*1.0275\n",
    "    y += 1\n",
    "    if y > 15: #if y is greater than 15 break it\n",
    "        break\n",
    "print('loan after 15 years of interest', round(i,2))\n",
    "\n",
    "#note this assumes that you are not paying it off every month. This is the cost of loan without payments\n",
    "# For an exercise, write a while loop that includes monthly payments of $300\n",
    "\n",
    "#If I didn't use the break function, this lop would be indefinite because i is always greater than 0 in this loop."
   ]
  },
  {
   "cell_type": "code",
   "execution_count": 43,
   "id": "62a9b1be-fc0c-4477-bd0e-b9a7cb58eb8e",
   "metadata": {},
   "outputs": [
    {
     "data": {
      "text/plain": [
       "\u001b[0;31mSignature:\u001b[0m \u001b[0mround\u001b[0m\u001b[0;34m(\u001b[0m\u001b[0mnumber\u001b[0m\u001b[0;34m,\u001b[0m \u001b[0mndigits\u001b[0m\u001b[0;34m=\u001b[0m\u001b[0;32mNone\u001b[0m\u001b[0;34m)\u001b[0m\u001b[0;34m\u001b[0m\u001b[0;34m\u001b[0m\u001b[0m\n",
       "\u001b[0;31mDocstring:\u001b[0m\n",
       "Round a number to a given precision in decimal digits.\n",
       "\n",
       "The return value is an integer if ndigits is omitted or None.  Otherwise\n",
       "the return value has the same type as the number.  ndigits may be negative.\n",
       "\u001b[0;31mType:\u001b[0m      builtin_function_or_method\n"
      ]
     },
     "metadata": {},
     "output_type": "display_data"
    }
   ],
   "source": [
    "round?"
   ]
  },
  {
   "cell_type": "code",
   "execution_count": 44,
   "id": "d7283203-e943-4db9-aa0d-39636bd4f973",
   "metadata": {},
   "outputs": [],
   "source": [
    "##NUMPY\n",
    "#Numpy is a package that works with multi-dimesnional arrays \n",
    "#to apply mathematical functions and statistics. \n",
    "#It does more than this, but that's what we're interested in for this class."
   ]
  },
  {
   "cell_type": "code",
   "execution_count": 45,
   "id": "9002249e-696e-4420-a26f-711976dd73f5",
   "metadata": {},
   "outputs": [],
   "source": [
    "import numpy as np\n",
    "#I'm calling the book numpy from my library to use in this notebook"
   ]
  },
  {
   "cell_type": "code",
   "execution_count": 46,
   "id": "60d5c81a-e6f4-4d16-bcec-9439c6799f0d",
   "metadata": {},
   "outputs": [
    {
     "data": {
      "text/plain": [
       "array(1)"
      ]
     },
     "execution_count": 46,
     "metadata": {},
     "output_type": "execute_result"
    }
   ],
   "source": [
    "# 0 dimensional arrays\n",
    "np.array(1)"
   ]
  },
  {
   "cell_type": "code",
   "execution_count": 47,
   "id": "3487e0b4-a3e9-4bea-a472-c9926538bc34",
   "metadata": {},
   "outputs": [],
   "source": [
    "# One dimensional arrays\n",
    "d_1 = np.array([1,4,3,5,8,19])"
   ]
  },
  {
   "cell_type": "code",
   "execution_count": 48,
   "id": "31ede8d3-d127-4215-9e74-22b00645d67b",
   "metadata": {},
   "outputs": [],
   "source": [
    "# 2 dimensional arrays\n",
    "d_2 = np.array([[1,4,5],[3,5,6],[3,5,6],[3,5,6]])"
   ]
  },
  {
   "cell_type": "code",
   "execution_count": 49,
   "id": "e6323e8e-320b-44db-af77-0819c33e58d4",
   "metadata": {},
   "outputs": [],
   "source": [
    "# 3 dimensional arrays\n",
    "d_3 = np.array([[[1, 2], [3, 6]], [[1, 6], [9, 8]]])\n",
    "# <-  the square brackets are very important to determine the dimension"
   ]
  },
  {
   "cell_type": "code",
   "execution_count": 50,
   "id": "54915025-1fda-4276-adac-f3d65c8c3770",
   "metadata": {},
   "outputs": [
    {
     "data": {
      "text/plain": [
       "array(1)"
      ]
     },
     "execution_count": 50,
     "metadata": {},
     "output_type": "execute_result"
    }
   ],
   "source": [
    "# 0 dimensional arrays\n",
    "np.array(1)"
   ]
  },
  {
   "cell_type": "code",
   "execution_count": 67,
   "id": "9df13c92-12e2-436b-9e64-22ad908bef9d",
   "metadata": {},
   "outputs": [
    {
     "data": {
      "text/plain": [
       "array([ 1,  4,  3,  5,  8, 19])"
      ]
     },
     "execution_count": 67,
     "metadata": {},
     "output_type": "execute_result"
    }
   ],
   "source": [
    "# One dimensional arrays\n",
    "d_1 = np.array([1,4,3,5,8,19])\n",
    "d_1"
   ]
  },
  {
   "cell_type": "code",
   "execution_count": 68,
   "id": "018fdaa5-b74e-4c0d-a62c-952e4a4b3c6f",
   "metadata": {},
   "outputs": [
    {
     "data": {
      "text/plain": [
       "array([[1, 4, 5],\n",
       "       [3, 5, 6],\n",
       "       [3, 5, 6],\n",
       "       [3, 5, 6]])"
      ]
     },
     "execution_count": 68,
     "metadata": {},
     "output_type": "execute_result"
    }
   ],
   "source": [
    "# 2 dimensional arrays\n",
    "d_2 = np.array([[1,4,5],[3,5,6],[3,5,6],[3,5,6]])\n",
    "d_2"
   ]
  },
  {
   "cell_type": "code",
   "execution_count": 69,
   "id": "10df6710-a161-4af9-8565-f5263c722cf1",
   "metadata": {},
   "outputs": [
    {
     "data": {
      "text/plain": [
       "array([[[1, 2],\n",
       "        [3, 6]],\n",
       "\n",
       "       [[1, 6],\n",
       "        [9, 8]]])"
      ]
     },
     "execution_count": 69,
     "metadata": {},
     "output_type": "execute_result"
    }
   ],
   "source": [
    "# 3 dimensional arrays\n",
    "d_3 = np.array([[[1, 2], [3, 6]], [[1, 6], [9, 8]]])\n",
    "# <-  the square brackets are very important to determine the dimension\n",
    "d_3"
   ]
  },
  {
   "cell_type": "code",
   "execution_count": 54,
   "id": "19a68c93-14c2-44d8-ab8b-1d2d45c9d9ff",
   "metadata": {},
   "outputs": [],
   "source": [
    "##Remember that the format of shape is: (N rows, N columns)"
   ]
  },
  {
   "cell_type": "code",
   "execution_count": 55,
   "id": "26d56d65-3546-454d-873e-e5d62f294721",
   "metadata": {},
   "outputs": [
    {
     "name": "stdout",
     "output_type": "stream",
     "text": [
      "2\n",
      "4\n",
      "(4, 3)\n"
     ]
    }
   ],
   "source": [
    "print(d_2.ndim) # The number of dimensions\n",
    "print(len(d_2)) # number of elements in each dimension\n",
    "print(d_2.shape) # the shape of the array (N rows, N columns)"
   ]
  },
  {
   "cell_type": "code",
   "execution_count": 56,
   "id": "e30b18e6-0435-4255-894d-c8e96bfe155f",
   "metadata": {},
   "outputs": [
    {
     "name": "stdout",
     "output_type": "stream",
     "text": [
      "(2, 3)\n"
     ]
    }
   ],
   "source": [
    "d_2 = np.array([[-2,5,6],[5,2,7]])\n",
    "print(d_2.shape)"
   ]
  },
  {
   "cell_type": "code",
   "execution_count": 57,
   "id": "1b6706a2-5a2f-4af9-9c2d-2a39ddb21178",
   "metadata": {},
   "outputs": [
    {
     "data": {
      "text/plain": [
       "matrix([[-2,  5,  6],\n",
       "        [ 5,  2,  7]])"
      ]
     },
     "execution_count": 57,
     "metadata": {},
     "output_type": "execute_result"
    }
   ],
   "source": [
    "# You can turn arrays into matrices as long as it has 2 dimensions\n",
    "matrix = np.matrix(d_2)\n",
    "matrix\n",
    "#define something specifically to be a matrix"
   ]
  },
  {
   "cell_type": "code",
   "execution_count": 58,
   "id": "f197e272-b7cb-44a7-a229-d1f5ee624e1c",
   "metadata": {},
   "outputs": [],
   "source": [
    "#example"
   ]
  },
  {
   "cell_type": "code",
   "execution_count": 91,
   "id": "adf4e05d-8525-4c0c-9987-5f384d40bb8a",
   "metadata": {},
   "outputs": [],
   "source": [
    "#let's go back to the interest loan code and create a list of numbers\n",
    "i = 45832\n",
    "y = 0\n",
    "loan = []\n",
    "while i > 0:\n",
    "    i = i*1.0275\n",
    "    y += 1\n",
    "    loan.append(round(i,2))\n",
    "    if y > 15:\n",
    "        break\n",
    "loan_array = np.array(loan) ## we can assign a new variable that creates an array from a list\n",
    "loan_array = np.array(loan)"
   ]
  },
  {
   "cell_type": "code",
   "execution_count": 92,
   "id": "0f8817b6-7989-46cc-9ca9-33e38cedb301",
   "metadata": {},
   "outputs": [
    {
     "data": {
      "text/plain": [
       "[47092.38,\n",
       " 48387.42,\n",
       " 49718.07,\n",
       " 51085.32,\n",
       " 52490.17,\n",
       " 53933.65,\n",
       " 55416.82,\n",
       " 56940.79,\n",
       " 58506.66,\n",
       " 60115.59,\n",
       " 61768.77,\n",
       " 63467.41,\n",
       " 65212.76,\n",
       " 67006.11,\n",
       " 68848.78,\n",
       " 70742.12]"
      ]
     },
     "execution_count": 92,
     "metadata": {},
     "output_type": "execute_result"
    }
   ],
   "source": [
    "loan"
   ]
  },
  {
   "cell_type": "code",
   "execution_count": 61,
   "id": "e1f0b0d4-7bdc-4b88-98f2-cfd5ebc13869",
   "metadata": {},
   "outputs": [],
   "source": [
    "##use numpy to multiply the two arrays together."
   ]
  },
  {
   "cell_type": "code",
   "execution_count": 62,
   "id": "dec4f325-6451-47e9-8e22-5c3051992708",
   "metadata": {},
   "outputs": [],
   "source": [
    "fees = [1.002,1.002,1.003,1.003,1.004,1.005,1.006,1.005,1,1.004,1.001,1.00,1.002,1.003,1.003,1.002]\n",
    "fees = np.array(fees)"
   ]
  },
  {
   "cell_type": "code",
   "execution_count": 63,
   "id": "9e56eed1-0d5a-41d0-a0bc-f7fe1fad9ba3",
   "metadata": {},
   "outputs": [
    {
     "name": "stdout",
     "output_type": "stream",
     "text": [
      "16 16\n",
      "1 1\n"
     ]
    }
   ],
   "source": [
    "#let's check that both of the arrays are the same dimension and length\n",
    "print(len(fees),len(loan_array))\n",
    "print(fees.ndim,loan_array.ndim)"
   ]
  },
  {
   "cell_type": "code",
   "execution_count": 64,
   "id": "bd46135a-99c0-4ddf-900f-e859ade8345b",
   "metadata": {},
   "outputs": [
    {
     "data": {
      "text/plain": [
       "array([47186.56476, 48484.19484, 49867.22421, 51238.57596, 52700.13068,\n",
       "       54203.31825, 55749.32092, 57225.49395, 58506.66   , 60356.05236,\n",
       "       61830.53877, 63467.41   , 65343.18552, 67207.12833, 69055.32634,\n",
       "       70883.60424])"
      ]
     },
     "execution_count": 64,
     "metadata": {},
     "output_type": "execute_result"
    }
   ],
   "source": [
    "fees*loan_array"
   ]
  },
  {
   "cell_type": "code",
   "execution_count": 65,
   "id": "c9a1d4e0-9ef3-45fe-83ee-389434439a3e",
   "metadata": {},
   "outputs": [
    {
     "data": {
      "text/plain": [
       "array([47186.56, 48484.19, 49867.22, 51238.58, 52700.13, 54203.32,\n",
       "       55749.32, 57225.49, 58506.66, 60356.05, 61830.54, 63467.41,\n",
       "       65343.19, 67207.13, 69055.33, 70883.6 ])"
      ]
     },
     "execution_count": 65,
     "metadata": {},
     "output_type": "execute_result"
    }
   ],
   "source": [
    "#see that I have to call np to use the round function when dealing with arrays\n",
    "total_loan_cost = np.round(fees*loan_array,2)\n",
    "total_loan_cost"
   ]
  },
  {
   "cell_type": "code",
   "execution_count": 66,
   "id": "d55d3ec8-25b5-4e2e-93e4-88ad0a586762",
   "metadata": {},
   "outputs": [
    {
     "data": {
      "text/plain": [
       "array([47186.56, 48484.19, 49867.22, 51238.58, 52700.13, 54203.32,\n",
       "       55749.32, 57225.49, 58506.66, 60356.05, 61830.54, 63467.41,\n",
       "       65343.19, 67207.13, 69055.33, 70883.6 ])"
      ]
     },
     "execution_count": 66,
     "metadata": {},
     "output_type": "execute_result"
    }
   ],
   "source": [
    "total_loan_cost"
   ]
  },
  {
   "cell_type": "code",
   "execution_count": 70,
   "id": "5a04e06b-8a86-4c04-9a9d-149945c6899e",
   "metadata": {},
   "outputs": [],
   "source": [
    "#Let's say you have multiple loans with varying fee schedules\n",
    "#let's go back to the interest loan code and create a list of numbers\n",
    "##INTEGRATED THAT APPEND\n",
    "i = 35800\n",
    "y = 0\n",
    "loan_2 = []\n",
    "\n",
    "while i > 0:\n",
    "    i = i*1.0375\n",
    "    y += 1\n",
    "    loan_2.append(round(i,2))\n",
    "    if y > 15:\n",
    "        break"
   ]
  },
  {
   "cell_type": "code",
   "execution_count": 93,
   "id": "28843da3-74d8-40f4-8be6-48281bfd7789",
   "metadata": {},
   "outputs": [
    {
     "data": {
      "text/plain": [
       "matrix([[47092.38, 48387.42, 49718.07, 51085.32, 52490.17, 53933.65,\n",
       "         55416.82, 56940.79, 58506.66, 60115.59, 61768.77, 63467.41,\n",
       "         65212.76, 67006.11, 68848.78, 70742.12],\n",
       "        [37142.5 , 38535.34, 39980.42, 41479.68, 43035.17, 44648.99,\n",
       "         46323.33, 48060.45, 49862.72, 51732.57, 53672.54, 55685.27,\n",
       "         57773.46, 59939.97, 62187.72, 64519.76]])"
      ]
     },
     "execution_count": 93,
     "metadata": {},
     "output_type": "execute_result"
    }
   ],
   "source": [
    "#We can create a matrix out of that information\n",
    "all_loans = np.matrix([loan,loan_2])\n",
    "all_loans"
   ]
  },
  {
   "cell_type": "code",
   "execution_count": 72,
   "id": "ccce158c-28d7-4c20-9f94-53a92476dc82",
   "metadata": {},
   "outputs": [
    {
     "data": {
      "text/plain": [
       "matrix([[47092.38, 48387.42],\n",
       "        [49718.07, 51085.32],\n",
       "        [52490.17, 53933.65],\n",
       "        [55416.82, 56940.79],\n",
       "        [58506.66, 60115.59],\n",
       "        [61768.77, 63467.41],\n",
       "        [65212.76, 67006.11],\n",
       "        [68848.78, 70742.12],\n",
       "        [37142.5 , 38535.34],\n",
       "        [39980.42, 41479.68],\n",
       "        [43035.17, 44648.99],\n",
       "        [46323.33, 48060.45],\n",
       "        [49862.72, 51732.57],\n",
       "        [53672.54, 55685.27],\n",
       "        [57773.46, 59939.97],\n",
       "        [62187.72, 64519.76]])"
      ]
     },
     "execution_count": 72,
     "metadata": {},
     "output_type": "execute_result"
    }
   ],
   "source": [
    "# I can change the columns and rows with reshape to the specific shape I want\n",
    "np.reshape(all_loans,(16,2))"
   ]
  },
  {
   "cell_type": "code",
   "execution_count": 73,
   "id": "3b613ba4-6a87-4b9f-b11d-1ebab0c9202f",
   "metadata": {},
   "outputs": [],
   "source": [
    "# transpose is also useful\n",
    "all_loans = np.transpose(all_loans)# transpose is also useful\n",
    "all_loans = np.transpose(all_loans)"
   ]
  },
  {
   "cell_type": "code",
   "execution_count": 74,
   "id": "34acac24-6308-49b4-83fb-7c00fc5bf4ac",
   "metadata": {},
   "outputs": [],
   "source": [
    "all_loans_2 = all_loans"
   ]
  },
  {
   "cell_type": "code",
   "execution_count": 75,
   "id": "9809ddb1-5ee6-4cfc-b1f6-4a3583cce3cd",
   "metadata": {},
   "outputs": [],
   "source": [
    "##SLICING"
   ]
  },
  {
   "cell_type": "code",
   "execution_count": 76,
   "id": "3f16eb1a-863e-4ff3-838d-614489f991fb",
   "metadata": {},
   "outputs": [
    {
     "data": {
      "text/plain": [
       "array([47186.56, 48484.19, 49867.22, 51238.58, 52700.13, 54203.32,\n",
       "       55749.32, 57225.49, 58506.66, 60356.05, 61830.54, 63467.41,\n",
       "       65343.19, 67207.13, 69055.33, 70883.6 ])"
      ]
     },
     "execution_count": 76,
     "metadata": {},
     "output_type": "execute_result"
    }
   ],
   "source": [
    "#1-d array\n",
    "total_loan_cost"
   ]
  },
  {
   "cell_type": "code",
   "execution_count": 77,
   "id": "d4a2c1ea-c962-4da1-ae66-9f86c5111d42",
   "metadata": {},
   "outputs": [
    {
     "name": "stdout",
     "output_type": "stream",
     "text": [
      "54203.32\n"
     ]
    },
    {
     "data": {
      "text/plain": [
       "array([69055.33, 70883.6 ])"
      ]
     },
     "execution_count": 77,
     "metadata": {},
     "output_type": "execute_result"
    }
   ],
   "source": [
    "print(total_loan_cost[5]) #total cost of item 5\n",
    "total_loan_cost[14:] #last anything after item 14"
   ]
  },
  {
   "cell_type": "code",
   "execution_count": 78,
   "id": "96d7525a-9bda-4f20-9d76-825d38e95096",
   "metadata": {},
   "outputs": [
    {
     "data": {
      "text/plain": [
       "matrix([[47092.38, 48387.42, 49718.07, 51085.32, 52490.17, 53933.65,\n",
       "         55416.82, 56940.79, 58506.66, 60115.59, 61768.77, 63467.41,\n",
       "         65212.76, 67006.11, 68848.78, 70742.12],\n",
       "        [37142.5 , 38535.34, 39980.42, 41479.68, 43035.17, 44648.99,\n",
       "         46323.33, 48060.45, 49862.72, 51732.57, 53672.54, 55685.27,\n",
       "         57773.46, 59939.97, 62187.72, 64519.76]])"
      ]
     },
     "execution_count": 78,
     "metadata": {},
     "output_type": "execute_result"
    }
   ],
   "source": [
    "# Matrix (recall that we created a matrix earlier)\n",
    "all_loans"
   ]
  },
  {
   "cell_type": "code",
   "execution_count": 79,
   "id": "59755c74-9b3d-4acd-a604-c24d8d5c0478",
   "metadata": {},
   "outputs": [
    {
     "data": {
      "text/plain": [
       "matrix([[47092.38, 48387.42, 49718.07, 51085.32, 52490.17, 53933.65,\n",
       "         55416.82, 56940.79, 58506.66, 60115.59, 61768.77, 63467.41,\n",
       "         65212.76, 67006.11, 68848.78, 70742.12]])"
      ]
     },
     "execution_count": 79,
     "metadata": {},
     "output_type": "execute_result"
    }
   ],
   "source": [
    "# so, if we want the first row we can call it:\n",
    "all_loans[0]"
   ]
  },
  {
   "cell_type": "code",
   "execution_count": 80,
   "id": "c6c05770-f29e-4984-90cd-ed8dc7471445",
   "metadata": {},
   "outputs": [],
   "source": [
    "##Remember from Algebra the matrix locations:"
   ]
  },
  {
   "cell_type": "code",
   "execution_count": 81,
   "id": "f92869cd-b3b4-4b25-aaa1-c1e9a328164e",
   "metadata": {},
   "outputs": [],
   "source": [
    "##This works in the same way for index slicing in python (but with 0 indexing)"
   ]
  },
  {
   "cell_type": "code",
   "execution_count": 82,
   "id": "01126b04-97c0-4e99-9650-ffb2a378530d",
   "metadata": {},
   "outputs": [
    {
     "data": {
      "text/plain": [
       "matrix([[47092.38],\n",
       "        [37142.5 ]])"
      ]
     },
     "execution_count": 82,
     "metadata": {},
     "output_type": "execute_result"
    }
   ],
   "source": [
    "# If we want all item in the row and give the first column\n",
    "all_loans[:,0]\n",
    "# This says, show me all of the rows of the second column."
   ]
  },
  {
   "cell_type": "code",
   "execution_count": 83,
   "id": "0d4df9e0-5954-4c00-ba9f-077bf0e2e764",
   "metadata": {},
   "outputs": [
    {
     "data": {
      "text/plain": [
       "matrix([[47092.38],\n",
       "        [37142.5 ]])"
      ]
     },
     "execution_count": 83,
     "metadata": {},
     "output_type": "execute_result"
    }
   ],
   "source": [
    "# For example:\n",
    "# If we want the first column with rows 1 through 5\n",
    "all_loans[0:5,0]\n",
    "#[rows,0column]\n",
    "# Here, it will print rows 1 through 5 or, in other words, indexed items at 0 UNTIL 5 (indexed item 1 through 4)"
   ]
  },
  {
   "cell_type": "code",
   "execution_count": 84,
   "id": "0c71f76c-4424-4789-b508-c73defddc0fc",
   "metadata": {},
   "outputs": [],
   "source": [
    "#How do we get the second column with rows 1 through 3?"
   ]
  },
  {
   "cell_type": "code",
   "execution_count": 94,
   "id": "d57a6138-f2ad-4492-bb9b-18dd2b89ca89",
   "metadata": {},
   "outputs": [
    {
     "data": {
      "text/plain": [
       "matrix([], shape=(0, 1), dtype=float64)"
      ]
     },
     "execution_count": 94,
     "metadata": {},
     "output_type": "execute_result"
    }
   ],
   "source": [
    "all_loans[4:6,3]"
   ]
  },
  {
   "cell_type": "code",
   "execution_count": 95,
   "id": "5a154a4b-ee70-4fc8-9c30-10d573d3e1da",
   "metadata": {},
   "outputs": [],
   "source": [
    "##FILTERING"
   ]
  },
  {
   "cell_type": "code",
   "execution_count": 96,
   "id": "b10630ff-391b-4b8d-a219-902fb13e7834",
   "metadata": {},
   "outputs": [
    {
     "data": {
      "text/plain": [
       "matrix([[65212.76, 67006.11, 68848.78, 70742.12]])"
      ]
     },
     "execution_count": 96,
     "metadata": {},
     "output_type": "execute_result"
    }
   ],
   "source": [
    "all_loans[(all_loans > 65000)] #all the ellement in that matrix"
   ]
  },
  {
   "cell_type": "code",
   "execution_count": 97,
   "id": "29eb4852-7db2-46cf-8e22-70dca14906d7",
   "metadata": {},
   "outputs": [
    {
     "data": {
      "text/plain": [
       "matrix([[37142.5 , 38535.34, 39980.42]])"
      ]
     },
     "execution_count": 97,
     "metadata": {},
     "output_type": "execute_result"
    }
   ],
   "source": [
    "all_loans[(all_loans < 40000)]"
   ]
  },
  {
   "cell_type": "code",
   "execution_count": 98,
   "id": "29a8c241-70e3-431f-aed4-515707d5f4f9",
   "metadata": {},
   "outputs": [
    {
     "data": {
      "text/plain": [
       "matrix([[65212.76]])"
      ]
     },
     "execution_count": 98,
     "metadata": {},
     "output_type": "execute_result"
    }
   ],
   "source": [
    "all_loans[(all_loans >65000) & (all_loans <67000)] ##SOMETHING BETWEEEN 65000 and 67000"
   ]
  },
  {
   "cell_type": "code",
   "execution_count": 99,
   "id": "95a961fa-acbf-43e3-8759-502a0178d16e",
   "metadata": {},
   "outputs": [
    {
     "data": {
      "text/plain": [
       "matrix([[65212.76]])"
      ]
     },
     "execution_count": 99,
     "metadata": {},
     "output_type": "execute_result"
    }
   ],
   "source": [
    "all_loans[(all_loans==65212.76)] #SOMETHING EQUALS TO"
   ]
  },
  {
   "cell_type": "code",
   "execution_count": 102,
   "id": "26caae97-f691-460f-b33c-38b0151563ec",
   "metadata": {},
   "outputs": [],
   "source": [
    "# We can use these additional conditionals to replace values in the matrix\n",
    "# that meet the true condition\n",
    "all_loans[(all_loans >65000)& (all_loans <67000)] = np.nan\n",
    "all_loans[(all_loans <38000)] = np.inf"
   ]
  },
  {
   "cell_type": "code",
   "execution_count": 101,
   "id": "c6fd0aaf-212e-4cdc-9e72-4f7ef2f890c8",
   "metadata": {},
   "outputs": [
    {
     "data": {
      "text/plain": [
       "matrix([[47092.38, 48387.42, 49718.07, 51085.32, 52490.17, 53933.65,\n",
       "         55416.82, 56940.79, 58506.66, 60115.59, 61768.77, 63467.41,\n",
       "              nan, 67006.11, 68848.78, 70742.12],\n",
       "        [     inf, 38535.34, 39980.42, 41479.68, 43035.17, 44648.99,\n",
       "         46323.33, 48060.45, 49862.72, 51732.57, 53672.54, 55685.27,\n",
       "         57773.46, 59939.97, 62187.72, 64519.76]])"
      ]
     },
     "execution_count": 101,
     "metadata": {},
     "output_type": "execute_result"
    }
   ],
   "source": [
    "all_loans ##nan is anything missing"
   ]
  },
  {
   "cell_type": "code",
   "execution_count": 103,
   "id": "26db0b54-fbf1-4564-a1ce-6bd833c6d73e",
   "metadata": {},
   "outputs": [],
   "source": [
    "##Remember \n",
    "#np.isnan() and np.isinf() functions \n",
    "#you will use this OFTEN"
   ]
  },
  {
   "cell_type": "code",
   "execution_count": 104,
   "id": "e5244a37-8957-4d5e-ae7b-fc86c377ecd4",
   "metadata": {},
   "outputs": [
    {
     "data": {
      "text/plain": [
       "matrix([[False, False, False, False, False, False, False, False, False,\n",
       "         False, False, False,  True, False, False, False],\n",
       "        [False, False, False, False, False, False, False, False, False,\n",
       "         False, False, False, False, False, False, False]])"
      ]
     },
     "execution_count": 104,
     "metadata": {},
     "output_type": "execute_result"
    }
   ],
   "source": [
    "#let's search for these values\n",
    "np.isnan(all_loans)\n",
    "##WHAT IS A LOGICAL FUNCTION"
   ]
  },
  {
   "cell_type": "code",
   "execution_count": 105,
   "id": "01e1eab1-05a8-4801-9b29-bcf8cc13e432",
   "metadata": {},
   "outputs": [
    {
     "data": {
      "text/plain": [
       "matrix([[nan]])"
      ]
     },
     "execution_count": 105,
     "metadata": {},
     "output_type": "execute_result"
    }
   ],
   "source": [
    "#we can also filter for only true values from the matrix \n",
    "# that are nan by creating a list of all values that are True\n",
    "all_loans[np.isnan(all_loans)]\n",
    "#for all the items in loan, give me what is true, Everthing that's not missing"
   ]
  },
  {
   "cell_type": "code",
   "execution_count": 106,
   "id": "cbb03c44-c4b5-4c00-8204-f69fa63f95d8",
   "metadata": {},
   "outputs": [
    {
     "data": {
      "text/plain": [
       "matrix([[47092.38, 48387.42, 49718.07, 51085.32, 52490.17, 53933.65,\n",
       "         55416.82, 56940.79, 58506.66, 60115.59, 61768.77, 63467.41,\n",
       "         67006.11, 68848.78, 70742.12,      inf, 38535.34, 39980.42,\n",
       "         41479.68, 43035.17, 44648.99, 46323.33, 48060.45, 49862.72,\n",
       "         51732.57, 53672.54, 55685.27, 57773.46, 59939.97, 62187.72,\n",
       "         64519.76]])"
      ]
     },
     "execution_count": 106,
     "metadata": {},
     "output_type": "execute_result"
    }
   ],
   "source": [
    "# Here you can search for a boolean in the matrix to exclude anythign that is a nan\n",
    "# -> You MUST do the tilda to look exclude nan\n",
    "# It's kind of like an exclusion boolean. Show me everything but what I asked for.\n",
    "all_loans[~np.isnan(all_loans)]"
   ]
  },
  {
   "cell_type": "code",
   "execution_count": 107,
   "id": "f5c9c113-f8df-4e2c-9202-1fd80635f3f4",
   "metadata": {},
   "outputs": [
    {
     "data": {
      "text/plain": [
       "matrix([[47092.38, 48387.42, 49718.07, 51085.32, 52490.17, 53933.65,\n",
       "         55416.82, 56940.79, 58506.66, 60115.59, 61768.77, 63467.41,\n",
       "              nan, 67006.11, 68848.78, 70742.12, 38535.34, 39980.42,\n",
       "         41479.68, 43035.17, 44648.99, 46323.33, 48060.45, 49862.72,\n",
       "         51732.57, 53672.54, 55685.27, 57773.46, 59939.97, 62187.72,\n",
       "         64519.76]])"
      ]
     },
     "execution_count": 107,
     "metadata": {},
     "output_type": "execute_result"
    }
   ],
   "source": [
    "all_loans[~np.isinf(all_loans)]"
   ]
  },
  {
   "cell_type": "code",
   "execution_count": 108,
   "id": "afcef6e1-16a6-42f1-ae63-b632e8dc6eab",
   "metadata": {},
   "outputs": [
    {
     "data": {
      "text/plain": [
       "2"
      ]
     },
     "execution_count": 108,
     "metadata": {},
     "output_type": "execute_result"
    }
   ],
   "source": [
    "##Python Byte Moment¶"
   ]
  },
  {
   "cell_type": "code",
   "execution_count": 109,
   "id": "1bad210e-ee3c-43b1-8cde-a1de2f4205dc",
   "metadata": {},
   "outputs": [
    {
     "data": {
      "text/plain": [
       "2"
      ]
     },
     "execution_count": 109,
     "metadata": {},
     "output_type": "execute_result"
    }
   ],
   "source": [
    "# here is an example that I create an array and then I ask it to tell me the dimension of the array\n",
    "#python will output the last function you ask it to, but it will also calculate everythign prior\n",
    "np.array([[1,4],[3,5]]).ndim"
   ]
  },
  {
   "cell_type": "code",
   "execution_count": 110,
   "id": "ad027d2e-ac5a-46c1-8589-9f605c9af70d",
   "metadata": {},
   "outputs": [
    {
     "data": {
      "text/plain": [
       "2"
      ]
     },
     "execution_count": 110,
     "metadata": {},
     "output_type": "execute_result"
    }
   ],
   "source": [
    "x = np.array([[1,4],[3,5]]).ndim\n",
    "x"
   ]
  },
  {
   "cell_type": "code",
   "execution_count": 111,
   "id": "8090f1fc-2a2e-4b51-9bf6-c8219565c303",
   "metadata": {},
   "outputs": [],
   "source": [
    "x_list =[34,62,35,647,45,29,68,3,55]\n",
    "x_list = np.array(x_list)"
   ]
  },
  {
   "cell_type": "code",
   "execution_count": 112,
   "id": "50ec6ad4-2024-47d8-a258-ee60a7c485e0",
   "metadata": {},
   "outputs": [],
   "source": [
    "# The above is the same as the code below\n",
    "x_list = np.array([34,62,35,647,45,29,68,3,55])"
   ]
  },
  {
   "cell_type": "code",
   "execution_count": 113,
   "id": "600f1d62-5337-4a90-b1a9-86124cc59f19",
   "metadata": {},
   "outputs": [],
   "source": [
    "##Useful Functions in Numpy"
   ]
  },
  {
   "cell_type": "code",
   "execution_count": 114,
   "id": "11599669-056c-4964-b65c-9df2b533d018",
   "metadata": {},
   "outputs": [
    {
     "data": {
      "text/plain": [
       "array([217.00778788, 219.97140723, 222.97549193, 226.02061853,\n",
       "       229.10733292, 232.23619442, 235.40777387, 238.62269381,\n",
       "       241.88149991, 245.18480785, 248.53323721, 251.92739033,\n",
       "       255.36789148, 258.85538434, 262.3905105 , 265.97390849])"
      ]
     },
     "execution_count": 114,
     "metadata": {},
     "output_type": "execute_result"
    }
   ],
   "source": [
    "#square root\n",
    "np.sqrt(loan)"
   ]
  },
  {
   "cell_type": "code",
   "execution_count": 115,
   "id": "c336fde6-60f3-4fcd-87f4-f50f4f347a46",
   "metadata": {},
   "outputs": [
    {
     "data": {
      "text/plain": [
       "array([2.21769225e+09, 2.34134241e+09, 2.47188648e+09, 2.60970992e+09,\n",
       "       2.75521795e+09, 2.90883860e+09, 3.07102394e+09, 3.24225357e+09,\n",
       "       3.42302926e+09, 3.61388416e+09, 3.81538095e+09, 4.02811213e+09,\n",
       "       4.25270407e+09, 4.48981878e+09, 4.74015451e+09, 5.00444754e+09])"
      ]
     },
     "execution_count": 115,
     "metadata": {},
     "output_type": "execute_result"
    }
   ],
   "source": [
    "np.square(loan)"
   ]
  },
  {
   "cell_type": "code",
   "execution_count": 116,
   "id": "f3c4ef9b-c12a-4779-8e67-139a084848ec",
   "metadata": {},
   "outputs": [
    {
     "data": {
      "text/plain": [
       "matrix([[2.21769225e+09, 2.34134241e+09, 2.47188648e+09, 2.60970992e+09,\n",
       "         2.75521795e+09, 2.90883860e+09, 3.07102394e+09, 3.24225357e+09,\n",
       "         3.42302926e+09, 3.61388416e+09, 3.81538095e+09, 4.02811213e+09,\n",
       "         4.25270407e+09, 4.48981878e+09, 4.74015451e+09, 5.00444754e+09],\n",
       "        [1.37956531e+09, 1.48497243e+09, 1.59843398e+09, 1.72056385e+09,\n",
       "         1.85202586e+09, 1.99353231e+09, 2.14585090e+09, 2.30980685e+09,\n",
       "         2.48629085e+09, 2.67625880e+09, 2.88074155e+09, 3.10084929e+09,\n",
       "         3.33777268e+09, 3.59280000e+09, 3.86731252e+09, 4.16279943e+09]])"
      ]
     },
     "execution_count": 116,
     "metadata": {},
     "output_type": "execute_result"
    }
   ],
   "source": [
    "#matrix\n",
    "np.square(all_loans_2)"
   ]
  },
  {
   "cell_type": "code",
   "execution_count": 117,
   "id": "1c21782b-2665-4376-81a6-8b83c7872f76",
   "metadata": {},
   "outputs": [
    {
     "data": {
      "text/plain": [
       "15.07443104084234"
      ]
     },
     "execution_count": 117,
     "metadata": {},
     "output_type": "execute_result"
    }
   ],
   "source": [
    "#exponential (also for numbers)\n",
    "np.exp(2.713)"
   ]
  },
  {
   "cell_type": "code",
   "execution_count": 118,
   "id": "930ace78-065e-4896-bbd8-6909e812dcaa",
   "metadata": {},
   "outputs": [
    {
     "data": {
      "text/plain": [
       "array([1.75907682e+094, 3.40697022e+095, 6.87109168e+096, 1.44380128e+098,\n",
       "       3.16264505e+099, 7.22599632e+100, 1.72304726e+102, 4.29061135e+103,\n",
       "       1.11635080e+105, 3.03675039e+106, 8.64198467e+107, 2.57439665e+109,\n",
       "       8.03278468e+110, 2.62702998e+112, 9.01053989e+113, 3.24340207e+115])"
      ]
     },
     "execution_count": 118,
     "metadata": {},
     "output_type": "execute_result"
    }
   ],
   "source": [
    "# or an array\n",
    "np.exp(np.sqrt(loan))"
   ]
  },
  {
   "cell_type": "code",
   "execution_count": 119,
   "id": "6c938d7c-1528-45f9-9604-9474220707b9",
   "metadata": {},
   "outputs": [
    {
     "data": {
      "text/plain": [
       "array([10.75986648, 10.78699514, 10.81412373, 10.84125246, 10.86838119,\n",
       "       10.89550987, 10.92263844, 10.94976723, 10.97689587, 11.00402449,\n",
       "       11.03115318, 11.05828182, 11.08541043, 11.11253909, 11.13966778,\n",
       "       11.16679643])"
      ]
     },
     "execution_count": 119,
     "metadata": {},
     "output_type": "execute_result"
    }
   ],
   "source": [
    "#What's the base of this?\n",
    "np.log(loan)"
   ]
  },
  {
   "cell_type": "code",
   "execution_count": 120,
   "id": "e472d0cb-da7b-4af7-baf3-fee7b2fd3040",
   "metadata": {},
   "outputs": [
    {
     "data": {
      "text/plain": [
       "array([4.67295064, 4.68473247, 4.69651426, 4.70829612, 4.72007798,\n",
       "       4.73185981, 4.7436416 , 4.75542349, 4.76720531, 4.77898711,\n",
       "       4.79076895, 4.80255078, 4.81433258, 4.82611441, 4.83789625,\n",
       "       4.84967807])"
      ]
     },
     "execution_count": 120,
     "metadata": {},
     "output_type": "execute_result"
    }
   ],
   "source": [
    "np.log10(loan)"
   ]
  },
  {
   "cell_type": "code",
   "execution_count": 121,
   "id": "fd0b5811-d208-4ff5-89ca-485636f81b9b",
   "metadata": {},
   "outputs": [
    {
     "data": {
      "text/plain": [
       "array([47092.38, 48387.42, 49718.07, 51085.32, 52490.17, 53933.65,\n",
       "       55416.82, 56940.79, 58506.66, 60115.59, 61768.77, 63467.41,\n",
       "       65212.76, 67006.11, 68848.78, 70742.12])"
      ]
     },
     "execution_count": 121,
     "metadata": {},
     "output_type": "execute_result"
    }
   ],
   "source": [
    "# absolute values\n",
    "np.abs(loan)"
   ]
  },
  {
   "cell_type": "code",
   "execution_count": 122,
   "id": "4903217b-8f70-4f6e-9c23-d0ae2314d418",
   "metadata": {},
   "outputs": [
    {
     "data": {
      "text/plain": [
       "array([47092., 48387., 49718., 51085., 52490., 53934., 55417., 56941.,\n",
       "       58507., 60116., 61769., 63467., 65213., 67006., 68849., 70742.])"
      ]
     },
     "execution_count": 122,
     "metadata": {},
     "output_type": "execute_result"
    }
   ],
   "source": [
    "#round to the nearest integer\n",
    "# (particularly useful when cleaning data and need to convert to integer)\n",
    "np.rint(loan)"
   ]
  },
  {
   "cell_type": "code",
   "execution_count": 123,
   "id": "aa7b52e6-87c1-46f4-94d8-d5f158f0f942",
   "metadata": {},
   "outputs": [],
   "source": [
    "## Calculations within a Matrix or Array"
   ]
  },
  {
   "cell_type": "code",
   "execution_count": 124,
   "id": "7d04a605-7b47-478c-8422-db3620656e2e",
   "metadata": {},
   "outputs": [],
   "source": [
    "all_loans[0:1,1]= 57773.46\n",
    "all_loans[12:13,0] = 37142.5"
   ]
  },
  {
   "cell_type": "code",
   "execution_count": 125,
   "id": "27229b4b-44ec-4cc2-963f-a942a094e78b",
   "metadata": {},
   "outputs": [
    {
     "data": {
      "text/plain": [
       "matrix([[47092.38, 57773.46, 49718.07, 51085.32, 52490.17, 53933.65,\n",
       "         55416.82, 56940.79, 58506.66, 60115.59, 61768.77, 63467.41,\n",
       "              nan, 67006.11, 68848.78, 70742.12],\n",
       "        [     inf, 38535.34, 39980.42, 41479.68, 43035.17, 44648.99,\n",
       "         46323.33, 48060.45, 49862.72, 51732.57, 53672.54, 55685.27,\n",
       "         57773.46, 59939.97, 62187.72, 64519.76]])"
      ]
     },
     "execution_count": 125,
     "metadata": {},
     "output_type": "execute_result"
    }
   ],
   "source": [
    "all_loans"
   ]
  },
  {
   "cell_type": "code",
   "execution_count": 126,
   "id": "fc3614f2-43c3-42a5-8407-90aedca91bf5",
   "metadata": {},
   "outputs": [
    {
     "data": {
      "text/plain": [
       "nan"
      ]
     },
     "execution_count": 126,
     "metadata": {},
     "output_type": "execute_result"
    }
   ],
   "source": [
    "#minimum value of the entire matrix\n",
    "all_loans.min()"
   ]
  },
  {
   "cell_type": "code",
   "execution_count": 127,
   "id": "9f352f7a-5437-4cbc-bda7-5ca5aae009b1",
   "metadata": {},
   "outputs": [
    {
     "data": {
      "text/plain": [
       "matrix([[     nan],\n",
       "        [38535.34]])"
      ]
     },
     "execution_count": 127,
     "metadata": {},
     "output_type": "execute_result"
    }
   ],
   "source": [
    "#minimum value for EACH row\n",
    "all_loans.min(axis=1)"
   ]
  },
  {
   "cell_type": "code",
   "execution_count": 128,
   "id": "79d47bad-e391-442f-9c11-3b6af26ac4dc",
   "metadata": {},
   "outputs": [
    {
     "data": {
      "text/plain": [
       "matrix([[47092.38, 38535.34, 39980.42, 41479.68, 43035.17, 44648.99,\n",
       "         46323.33, 48060.45, 49862.72, 51732.57, 53672.54, 55685.27,\n",
       "              nan, 59939.97, 62187.72, 64519.76]])"
      ]
     },
     "execution_count": 128,
     "metadata": {},
     "output_type": "execute_result"
    }
   ],
   "source": [
    "#minimum value for EACH column\n",
    "all_loans.min(axis=0)"
   ]
  },
  {
   "cell_type": "code",
   "execution_count": 129,
   "id": "f1fb7dc6-8f45-4ce7-aa58-ba95fe38585f",
   "metadata": {},
   "outputs": [],
   "source": [
    "##Random function"
   ]
  },
  {
   "cell_type": "code",
   "execution_count": 130,
   "id": "6852aaff-8b4c-4e73-bc59-d93ed8f171c2",
   "metadata": {},
   "outputs": [
    {
     "data": {
      "text/plain": [
       "array([[0.08833966, 0.05263721, 0.97422867, 0.48492452, 0.12153708,\n",
       "        0.03934792],\n",
       "       [0.5571292 , 0.49326633, 0.94793725, 0.91208767, 0.56082254,\n",
       "        0.53821316],\n",
       "       [0.55605673, 0.42163249, 0.68713931, 0.63227691, 0.0251158 ,\n",
       "        0.12749528],\n",
       "       [0.17815946, 0.32103941, 0.52386575, 0.79529518, 0.77428586,\n",
       "        0.07713004],\n",
       "       [0.61597247, 0.58339142, 0.30560728, 0.71511726, 0.13319148,\n",
       "        0.5755308 ],\n",
       "       [0.37596234, 0.06977583, 0.67198747, 0.30109007, 0.66886535,\n",
       "        0.91958402],\n",
       "       [0.20668679, 0.63264266, 0.83612821, 0.18265333, 0.42653618,\n",
       "        0.90713855],\n",
       "       [0.66516365, 0.73785972, 0.33290843, 0.01212757, 0.31396594,\n",
       "        0.90503099]])"
      ]
     },
     "execution_count": 130,
     "metadata": {},
     "output_type": "execute_result"
    }
   ],
   "source": [
    "np.random.rand(8,6)"
   ]
  },
  {
   "cell_type": "code",
   "execution_count": 131,
   "id": "dfd948d1-83ef-4b20-8635-84ef5371dcd0",
   "metadata": {},
   "outputs": [],
   "source": [
    "#in-class activity"
   ]
  },
  {
   "cell_type": "code",
   "execution_count": 137,
   "id": "7cc5c299-ad42-4586-b830-ed2cb9c68d8d",
   "metadata": {},
   "outputs": [
    {
     "name": "stdout",
     "output_type": "stream",
     "text": [
      "loan after 12 months of interest 38319.33\n"
     ]
    }
   ],
   "source": [
    "# Interest rates on loans example\n"
   ]
  },
  {
   "cell_type": "code",
   "execution_count": 139,
   "id": "669f8e3a-53a7-4552-8fcd-7931b7a3dd79",
   "metadata": {},
   "outputs": [
    {
     "name": "stdout",
     "output_type": "stream",
     "text": [
      "loan after 15 years of interest 76671.32\n"
     ]
    }
   ],
   "source": [
    "i = 45832\n",
    "y = 0\n",
    "while i > 0:\n",
    "    i = (i*1.0275)\n",
    "    y += 1\n",
    "    if y > 15:\n",
    "        break\n",
    "print('loan after 15 years of interest', round(i,2))"
   ]
  },
  {
   "cell_type": "code",
   "execution_count": 156,
   "id": "a1fdfb14-7a39-4120-8544-6a57e33cfc7b",
   "metadata": {},
   "outputs": [
    {
     "name": "stdout",
     "output_type": "stream",
     "text": [
      "loan after 15 years of interest -408.2\n"
     ]
    }
   ],
   "source": [
    "#Includes annual payment of 12*300\n",
    "#how many years take to pay of the loan\n",
    "i = 45832\n",
    "y = 0\n",
    "loan = []\n",
    "while i > 0:\n",
    "    i = i*1.0275-(12*300)\n",
    "    y += 1\n",
    "    loan.append(round(i,2))\n",
    "    if y > 15:\n",
    "        break\n",
    "print('loan after 15 years of interest', round(i,2))"
   ]
  }
 ],
 "metadata": {
  "kernelspec": {
   "display_name": "Python 3",
   "language": "python",
   "name": "python3"
  },
  "language_info": {
   "codemirror_mode": {
    "name": "ipython",
    "version": 3
   },
   "file_extension": ".py",
   "mimetype": "text/x-python",
   "name": "python",
   "nbconvert_exporter": "python",
   "pygments_lexer": "ipython3",
   "version": "3.8.8"
  },
  "toc-showcode": false
 },
 "nbformat": 4,
 "nbformat_minor": 5
}
